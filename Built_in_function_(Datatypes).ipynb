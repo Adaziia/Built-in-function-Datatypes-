{
  "nbformat": 4,
  "nbformat_minor": 0,
  "metadata": {
    "colab": {
      "provenance": [],
      "toc_visible": true
    },
    "kernelspec": {
      "name": "python3",
      "display_name": "Python 3"
    },
    "language_info": {
      "name": "python"
    }
  },
  "cells": [
    {
      "cell_type": "markdown",
      "source": [
        "Built in functions with strings and lists"
      ],
      "metadata": {
        "id": "BIXV3W2qVHSS"
      }
    },
    {
      "cell_type": "markdown",
      "source": [
        "List is incorporated inside the square bracket.// It is mutable in nature. Use for business purposes in which the company dailing with multiples data each every year employees will increase, salary will increase in this situation we can use list in which we can upgrade later."
      ],
      "metadata": {
        "id": "sqbgVHd165ZZ"
      }
    },
    {
      "cell_type": "code",
      "source": [
        "a=['a','b','c','c']"
      ],
      "metadata": {
        "id": "fiiWgruB7vCH"
      },
      "execution_count": null,
      "outputs": []
    },
    {
      "cell_type": "code",
      "source": [
        "print(a)"
      ],
      "metadata": {
        "colab": {
          "base_uri": "https://localhost:8080/"
        },
        "id": "OQ92wp3q1zT3",
        "outputId": "c71ccde7-c6a9-4ae8-b396-df9bbb42b1b2"
      },
      "execution_count": null,
      "outputs": [
        {
          "output_type": "stream",
          "name": "stdout",
          "text": [
            "['a', 'b', 'c', 'c']\n"
          ]
        }
      ]
    },
    {
      "cell_type": "code",
      "source": [
        "a=\"kayia\"\n",
        "print(a.upper())\n",
        "print(a.lower())\n",
        "print(a.capitalize())\n"
      ],
      "metadata": {
        "colab": {
          "base_uri": "https://localhost:8080/"
        },
        "id": "_jdUP3hzVRuY",
        "outputId": "89243ac3-eb32-4285-e15f-3f7b0fe156a9"
      },
      "execution_count": null,
      "outputs": [
        {
          "output_type": "stream",
          "name": "stdout",
          "text": [
            "KAYIA\n",
            "kayia\n",
            "Kayia\n"
          ]
        }
      ]
    },
    {
      "cell_type": "markdown",
      "source": [
        "Find and replace"
      ],
      "metadata": {
        "id": "CeDdjeSoXEp_"
      }
    },
    {
      "cell_type": "code",
      "source": [
        "Statement= \"Hey, I am doing good, I am from Manipur, I am going to Bangalore next week and I am going to stay for  a weeks\"\n",
        "print(Statement.replace(\"I am\",\"We are\",1))"
      ],
      "metadata": {
        "colab": {
          "base_uri": "https://localhost:8080/"
        },
        "id": "UeDu7CsDXYCO",
        "outputId": "09808a1b-6adc-4347-a785-218e7e26fc3f"
      },
      "execution_count": null,
      "outputs": [
        {
          "output_type": "stream",
          "name": "stdout",
          "text": [
            "Hey, We are doing good, I am from Manipur, I am going to Bangalore next week and I am going to stay for  a weeks\n"
          ]
        }
      ]
    },
    {
      "cell_type": "markdown",
      "source": [
        "Len: will tell the length of the words. (count the no. of elements / alphabets."
      ],
      "metadata": {
        "id": "Jmi3TajVYqeT"
      }
    },
    {
      "cell_type": "code",
      "source": [
        "a='Adaziia'\n",
        "print(len(a))"
      ],
      "metadata": {
        "colab": {
          "base_uri": "https://localhost:8080/"
        },
        "id": "QkX827QubZAk",
        "outputId": "52b82daa-27be-4c36-f8a6-38da0d4b40c2"
      },
      "execution_count": null,
      "outputs": [
        {
          "output_type": "stream",
          "name": "stdout",
          "text": [
            "7\n"
          ]
        }
      ]
    },
    {
      "cell_type": "markdown",
      "source": [
        "Count : will count the frequency.(how many time the word has been repeat)"
      ],
      "metadata": {
        "id": "yIAt0gBCbujA"
      }
    },
    {
      "cell_type": "code",
      "source": [
        "a='Adaziia'\n",
        "print(a.count('a'))"
      ],
      "metadata": {
        "colab": {
          "base_uri": "https://localhost:8080/"
        },
        "id": "D8VjIzlPb5-u",
        "outputId": "9b100cad-2c76-43bf-9b04-6f9656dc546a"
      },
      "execution_count": null,
      "outputs": [
        {
          "output_type": "stream",
          "name": "stdout",
          "text": [
            "2\n"
          ]
        }
      ]
    },
    {
      "cell_type": "markdown",
      "source": [
        "Append will add the one element toward the ending"
      ],
      "metadata": {
        "id": "MsGqb6TA4jKi"
      }
    },
    {
      "cell_type": "code",
      "source": [
        "a=['USA','Russia','India','London']"
      ],
      "metadata": {
        "id": "FcvXTb0P4t8b"
      },
      "execution_count": null,
      "outputs": []
    },
    {
      "cell_type": "code",
      "source": [
        "a.append('America')"
      ],
      "metadata": {
        "id": "EqGG1W3M2LuZ"
      },
      "execution_count": null,
      "outputs": []
    },
    {
      "cell_type": "code",
      "source": [
        "print(a)"
      ],
      "metadata": {
        "colab": {
          "base_uri": "https://localhost:8080/"
        },
        "id": "9mcsDRh42yP3",
        "outputId": "ee3461dd-832c-4513-dfc5-80c87dc1aace"
      },
      "execution_count": null,
      "outputs": [
        {
          "output_type": "stream",
          "name": "stdout",
          "text": [
            "['USA', 'Russia', 'India', 'London', 'America', 'America']\n"
          ]
        }
      ]
    },
    {
      "cell_type": "markdown",
      "source": [
        "Insert will add an element in specific location by considering the index no."
      ],
      "metadata": {
        "id": "qTIT9F7N818n"
      }
    },
    {
      "cell_type": "code",
      "source": [
        "a=[\"London\",\"UK\",\"America\"]\n",
        "a.insert(2,'Dubai')\n",
        "print(a)"
      ],
      "metadata": {
        "id": "2x2yqMyl5o9z",
        "colab": {
          "base_uri": "https://localhost:8080/"
        },
        "outputId": "c0659313-19e4-4aa7-9b1a-ce03aee9f009"
      },
      "execution_count": null,
      "outputs": [
        {
          "output_type": "stream",
          "name": "stdout",
          "text": [
            "['London', 'UK', 'Dubai', 'America']\n"
          ]
        }
      ]
    },
    {
      "cell_type": "markdown",
      "source": [
        "Remove will remove the duplicate // the first occurance will be eliminated."
      ],
      "metadata": {
        "id": "U-rEnzlU9A52"
      }
    },
    {
      "cell_type": "code",
      "source": [
        "a=[\"AI\",\"ML\",\"DL\",\"Genetic AI\",\"Statistics\",\"AI\"]\n",
        "print(a)"
      ],
      "metadata": {
        "id": "EbX3jDnM90nu",
        "colab": {
          "base_uri": "https://localhost:8080/"
        },
        "outputId": "0e090dfb-89c4-4b9a-85a7-3c2cd130241b"
      },
      "execution_count": null,
      "outputs": [
        {
          "output_type": "stream",
          "name": "stdout",
          "text": [
            "['AI', 'ML', 'DL', 'Genetic AI', 'Statistics', 'AI']\n"
          ]
        }
      ]
    },
    {
      "cell_type": "code",
      "source": [
        "a.remove(\"AI\")\n",
        "print(a)"
      ],
      "metadata": {
        "colab": {
          "base_uri": "https://localhost:8080/"
        },
        "id": "jQ9WhA280j-6",
        "outputId": "17d6fec2-5344-4052-b626-cd6f2e990009"
      },
      "execution_count": null,
      "outputs": [
        {
          "output_type": "stream",
          "name": "stdout",
          "text": [
            "['ML', 'DL', 'Genetic AI', 'Statistics']\n"
          ]
        }
      ]
    },
    {
      "cell_type": "markdown",
      "source": [
        "Pop will remove the elements of the index position if specify/ or the end of the element will remove."
      ],
      "metadata": {
        "id": "JEPTaDc1-jhe"
      }
    },
    {
      "cell_type": "code",
      "source": [
        "a.pop(2)\n",
        "print(a)"
      ],
      "metadata": {
        "colab": {
          "base_uri": "https://localhost:8080/"
        },
        "id": "KxwlxyFo-4e8",
        "outputId": "f78e182a-3500-4775-edb6-c4b6c346ec62"
      },
      "execution_count": null,
      "outputs": [
        {
          "output_type": "stream",
          "name": "stdout",
          "text": [
            "['ML', 'DL', 'Statistics']\n"
          ]
        }
      ]
    },
    {
      "cell_type": "markdown",
      "source": [
        "Extend will add more than one elements or multiples elements towards the end."
      ],
      "metadata": {
        "id": "4wSslYdg_H-8"
      }
    },
    {
      "cell_type": "code",
      "source": [
        "a.extend([\"Power BI\",\"Excel\"])"
      ],
      "metadata": {
        "id": "RVqRLzEE_UUK"
      },
      "execution_count": null,
      "outputs": []
    },
    {
      "cell_type": "code",
      "source": [
        "print(a)"
      ],
      "metadata": {
        "colab": {
          "base_uri": "https://localhost:8080/"
        },
        "id": "BumHxdIb3gyW",
        "outputId": "7f50581b-4a9e-43ee-b42e-7d8297a68dc9"
      },
      "execution_count": null,
      "outputs": [
        {
          "output_type": "stream",
          "name": "stdout",
          "text": [
            "['ML', 'DL', 'Statistics', 'Power BI', 'Excel']\n"
          ]
        }
      ]
    },
    {
      "cell_type": "markdown",
      "source": [
        "Numeric"
      ],
      "metadata": {
        "id": "1Us2XonFAabg"
      }
    },
    {
      "cell_type": "code",
      "source": [
        "a=[1,4,6,7,9,8,5,]\n",
        "print(max(a))\n",
        "print(min(a))\n",
        "print(sum(a))\n",
        "print(len(a))\n",
        "print(sum(a)/len(a))"
      ],
      "metadata": {
        "colab": {
          "base_uri": "https://localhost:8080/"
        },
        "id": "vOzjCHRSAgQ6",
        "outputId": "2f2fe718-d1f2-462e-c807-1f5f9e13367e"
      },
      "execution_count": null,
      "outputs": [
        {
          "output_type": "stream",
          "name": "stdout",
          "text": [
            "9\n",
            "1\n",
            "40\n",
            "7\n",
            "5.714285714285714\n"
          ]
        }
      ]
    },
    {
      "cell_type": "code",
      "source": [
        "a=[3,4,7,8,5,4,3,9]\n",
        "a.sort()\n",
        "print(a)"
      ],
      "metadata": {
        "id": "sgrN8gqYBB8q",
        "colab": {
          "base_uri": "https://localhost:8080/"
        },
        "outputId": "3243ff82-fafe-4b50-f567-0ff09a305655"
      },
      "execution_count": null,
      "outputs": [
        {
          "output_type": "stream",
          "name": "stdout",
          "text": [
            "[3, 3, 4, 4, 5, 7, 8, 9]\n",
            "None\n"
          ]
        }
      ]
    },
    {
      "cell_type": "code",
      "source": [
        "b=a.sort(reverse=True)\n",
        "print(a)"
      ],
      "metadata": {
        "colab": {
          "base_uri": "https://localhost:8080/"
        },
        "id": "EZwRuHOu4caQ",
        "outputId": "58e581a9-8010-4e99-a8b9-0b582e8aa4a9"
      },
      "execution_count": null,
      "outputs": [
        {
          "output_type": "stream",
          "name": "stdout",
          "text": [
            "[9, 8, 7, 5, 4, 4, 3, 3]\n"
          ]
        }
      ]
    },
    {
      "cell_type": "markdown",
      "source": [
        "Nested lists: list inside an  existing list"
      ],
      "metadata": {
        "id": "XF5GwuS7y-Tl"
      }
    },
    {
      "cell_type": "code",
      "source": [
        "L1=[\"India\",\"USA\",[\"China\",10,25,11.8,-0.3]]"
      ],
      "metadata": {
        "id": "gtDZ61brzMUV"
      },
      "execution_count": null,
      "outputs": []
    },
    {
      "cell_type": "markdown",
      "source": [],
      "metadata": {
        "id": "-zlYM_z8yqAw"
      }
    },
    {
      "cell_type": "code",
      "source": [
        "L1[2][2]"
      ],
      "metadata": {
        "id": "j3tCPPzGAYM-",
        "colab": {
          "base_uri": "https://localhost:8080/"
        },
        "outputId": "23e02235-ee39-45e5-b00d-31aad15a65ff"
      },
      "execution_count": null,
      "outputs": [
        {
          "output_type": "execute_result",
          "data": {
            "text/plain": [
              "25"
            ]
          },
          "metadata": {},
          "execution_count": 52
        }
      ]
    },
    {
      "cell_type": "code",
      "source": [
        "L1[2]"
      ],
      "metadata": {
        "colab": {
          "base_uri": "https://localhost:8080/"
        },
        "id": "ti6KZQld0T0a",
        "outputId": "20803a54-e5e1-4210-e44b-e5480b09782b"
      },
      "execution_count": null,
      "outputs": [
        {
          "output_type": "execute_result",
          "data": {
            "text/plain": [
              "['China', 10, 25, 11.8, -0.3]"
            ]
          },
          "metadata": {},
          "execution_count": 19
        }
      ]
    },
    {
      "cell_type": "code",
      "source": [
        "L1[2][0:4]"
      ],
      "metadata": {
        "colab": {
          "base_uri": "https://localhost:8080/"
        },
        "id": "hGHhZr654xSy",
        "outputId": "83c2a043-bca7-47cd-e963-6892ede8956b"
      },
      "execution_count": null,
      "outputs": [
        {
          "output_type": "execute_result",
          "data": {
            "text/plain": [
              "['China', 10, 25, 11.8]"
            ]
          },
          "metadata": {},
          "execution_count": 53
        }
      ]
    },
    {
      "cell_type": "code",
      "source": [
        "C=[\"India\",\"China\"]"
      ],
      "metadata": {
        "id": "RHc__EQu-4pK"
      },
      "execution_count": null,
      "outputs": []
    },
    {
      "cell_type": "code",
      "source": [
        "B=[\"Australia\"]"
      ],
      "metadata": {
        "id": "C5rGsIHK_AIr"
      },
      "execution_count": null,
      "outputs": []
    },
    {
      "cell_type": "code",
      "source": [
        "print(C+B)"
      ],
      "metadata": {
        "colab": {
          "base_uri": "https://localhost:8080/"
        },
        "id": "K09MahPu_D1B",
        "outputId": "b59d0159-1c60-4e0a-f70d-cb2ec1b2c2f2"
      },
      "execution_count": null,
      "outputs": [
        {
          "output_type": "stream",
          "name": "stdout",
          "text": [
            "['India', 'China', 'Australia']\n"
          ]
        }
      ]
    },
    {
      "cell_type": "markdown",
      "source": [
        "Tuples:incorporated inside the round bracket.. //built in functions which we use in strings and list can be use except we can't add/replace/delete because it is immutable in nature. This functions is use when you are dailing with crucial data for sensitive data/ vital important data which you don't want to change later."
      ],
      "metadata": {
        "id": "1D6FPtIU486e"
      }
    },
    {
      "cell_type": "code",
      "source": [
        "a=(\"aca\",\"king\",\"queen\",\"heart\",1,3,5)"
      ],
      "metadata": {
        "id": "_pdBRvn45LmU"
      },
      "execution_count": null,
      "outputs": []
    },
    {
      "cell_type": "code",
      "source": [
        "type(a)"
      ],
      "metadata": {
        "colab": {
          "base_uri": "https://localhost:8080/"
        },
        "id": "NqcDPleD5U_x",
        "outputId": "37819202-4c4a-4284-da33-853e95b6b139"
      },
      "execution_count": null,
      "outputs": [
        {
          "output_type": "execute_result",
          "data": {
            "text/plain": [
              "tuple"
            ]
          },
          "metadata": {},
          "execution_count": 56
        }
      ]
    },
    {
      "cell_type": "code",
      "source": [
        "print(len(a))"
      ],
      "metadata": {
        "colab": {
          "base_uri": "https://localhost:8080/"
        },
        "id": "kSwP-5Tx5k6m",
        "outputId": "cdb48da6-e2f3-44e9-cdaf-5558f6826cce"
      },
      "execution_count": null,
      "outputs": [
        {
          "output_type": "stream",
          "name": "stdout",
          "text": [
            "7\n"
          ]
        }
      ]
    },
    {
      "cell_type": "code",
      "source": [
        "t=('India','USA','Russia','UK',4,5,7,-8,0.8)"
      ],
      "metadata": {
        "id": "BGJPqzj454Am"
      },
      "execution_count": null,
      "outputs": []
    },
    {
      "cell_type": "code",
      "source": [
        "print(t)"
      ],
      "metadata": {
        "id": "SkTxjqhT6Qn0",
        "colab": {
          "base_uri": "https://localhost:8080/"
        },
        "outputId": "12cc9f71-9b86-4e7c-b4ea-ee39039c97ea"
      },
      "execution_count": null,
      "outputs": [
        {
          "output_type": "stream",
          "name": "stdout",
          "text": [
            "('India', 'USA', 'Russia', 'UK', 4, 5, 7, -8, 0.8)\n"
          ]
        }
      ]
    },
    {
      "cell_type": "code",
      "source": [
        "type(t)"
      ],
      "metadata": {
        "colab": {
          "base_uri": "https://localhost:8080/"
        },
        "id": "yI96MF6v4alK",
        "outputId": "38b4dd33-36fb-4e97-c7ca-65e87198b5cb"
      },
      "execution_count": null,
      "outputs": [
        {
          "output_type": "execute_result",
          "data": {
            "text/plain": [
              "tuple"
            ]
          },
          "metadata": {},
          "execution_count": 6
        }
      ]
    },
    {
      "cell_type": "code",
      "source": [
        "t[3]"
      ],
      "metadata": {
        "colab": {
          "base_uri": "https://localhost:8080/",
          "height": 36
        },
        "id": "APP0Ub_s4iWf",
        "outputId": "2eeedc9f-e831-4fb7-c87b-c8d01d42a430"
      },
      "execution_count": null,
      "outputs": [
        {
          "output_type": "execute_result",
          "data": {
            "text/plain": [
              "'UK'"
            ],
            "application/vnd.google.colaboratory.intrinsic+json": {
              "type": "string"
            }
          },
          "metadata": {},
          "execution_count": 7
        }
      ]
    },
    {
      "cell_type": "code",
      "source": [
        "t[0:5]"
      ],
      "metadata": {
        "colab": {
          "base_uri": "https://localhost:8080/"
        },
        "id": "V_dbDem24mAM",
        "outputId": "7f2f4707-4b7a-4056-c850-917fdb98e107"
      },
      "execution_count": null,
      "outputs": [
        {
          "output_type": "execute_result",
          "data": {
            "text/plain": [
              "('India', 'USA', 'Russia', 'UK', 4)"
            ]
          },
          "metadata": {},
          "execution_count": 8
        }
      ]
    },
    {
      "cell_type": "code",
      "source": [
        "my_t=(3,5,6,8,9,5,6,7,8)"
      ],
      "metadata": {
        "id": "ejluCFS95Z1N"
      },
      "execution_count": null,
      "outputs": []
    },
    {
      "cell_type": "code",
      "source": [
        "print(my_t)"
      ],
      "metadata": {
        "colab": {
          "base_uri": "https://localhost:8080/"
        },
        "id": "ltCc-FSF5gxR",
        "outputId": "0ff1b2a6-210f-4085-85cd-aa474e1f628d"
      },
      "execution_count": null,
      "outputs": [
        {
          "output_type": "stream",
          "name": "stdout",
          "text": [
            "(3, 5, 6, 8, 9, 5, 6, 7, 8)\n"
          ]
        }
      ]
    },
    {
      "cell_type": "code",
      "source": [
        "max(my_t)"
      ],
      "metadata": {
        "colab": {
          "base_uri": "https://localhost:8080/"
        },
        "id": "bqBRqo5U5mSh",
        "outputId": "bacaa105-9f46-4a2d-e13f-497d6417e0d0"
      },
      "execution_count": null,
      "outputs": [
        {
          "output_type": "execute_result",
          "data": {
            "text/plain": [
              "9"
            ]
          },
          "metadata": {},
          "execution_count": 12
        }
      ]
    },
    {
      "cell_type": "code",
      "source": [
        "min(my_t)"
      ],
      "metadata": {
        "colab": {
          "base_uri": "https://localhost:8080/"
        },
        "id": "YhPo3Z7-5qcU",
        "outputId": "6e951e55-7eaa-464d-b74a-87719e82a519"
      },
      "execution_count": null,
      "outputs": [
        {
          "output_type": "execute_result",
          "data": {
            "text/plain": [
              "3"
            ]
          },
          "metadata": {},
          "execution_count": 13
        }
      ]
    },
    {
      "cell_type": "code",
      "source": [
        "sum(my_t)/len(my_t) #average"
      ],
      "metadata": {
        "colab": {
          "base_uri": "https://localhost:8080/"
        },
        "id": "9aKsNMbJ5v7Y",
        "outputId": "26c807fb-66fc-42f8-90bc-20131b1cb473"
      },
      "execution_count": null,
      "outputs": [
        {
          "output_type": "execute_result",
          "data": {
            "text/plain": [
              "6.333333333333333"
            ]
          },
          "metadata": {},
          "execution_count": 14
        }
      ]
    },
    {
      "cell_type": "markdown",
      "source": [
        "Dictionary{} are incorporated inside the curly bracket with key value pair and it is mutable."
      ],
      "metadata": {
        "id": "mwK1luUD9VkI"
      }
    },
    {
      "cell_type": "code",
      "source": [
        "d={'lays':30,'uncle chips':40,'bingo':35,'max':25,'kurkure':50}"
      ],
      "metadata": {
        "id": "g89R9I2DrZJ2"
      },
      "execution_count": null,
      "outputs": []
    },
    {
      "cell_type": "code",
      "source": [
        "d.values()"
      ],
      "metadata": {
        "colab": {
          "base_uri": "https://localhost:8080/"
        },
        "id": "zK61MJ27ruQH",
        "outputId": "ec47a137-86d6-4eb4-9dc3-3b8d896f0b1d"
      },
      "execution_count": null,
      "outputs": [
        {
          "output_type": "execute_result",
          "data": {
            "text/plain": [
              "dict_values([30, 40, 35, 25, 50])"
            ]
          },
          "metadata": {},
          "execution_count": 5
        }
      ]
    },
    {
      "cell_type": "code",
      "source": [
        "d.keys()"
      ],
      "metadata": {
        "colab": {
          "base_uri": "https://localhost:8080/"
        },
        "id": "61HLqtoesDz_",
        "outputId": "032b1262-60b5-4ec4-e816-c0f4b22a0b24"
      },
      "execution_count": null,
      "outputs": [
        {
          "output_type": "execute_result",
          "data": {
            "text/plain": [
              "dict_keys(['lays', 'uncle chips', 'bingo', 'max', 'kurkure'])"
            ]
          },
          "metadata": {},
          "execution_count": 6
        }
      ]
    },
    {
      "cell_type": "code",
      "source": [
        "d['uncle chips'] #fetch"
      ],
      "metadata": {
        "colab": {
          "base_uri": "https://localhost:8080/"
        },
        "id": "n0e0M-GlsHzF",
        "outputId": "5bd0653d-3de2-443e-b389-d667881d2d49"
      },
      "execution_count": null,
      "outputs": [
        {
          "output_type": "execute_result",
          "data": {
            "text/plain": [
              "40"
            ]
          },
          "metadata": {},
          "execution_count": 7
        }
      ]
    },
    {
      "cell_type": "code",
      "source": [
        "d['lays']=50 #update"
      ],
      "metadata": {
        "id": "Oine8WZVsNDP"
      },
      "execution_count": null,
      "outputs": []
    },
    {
      "cell_type": "code",
      "source": [
        "print(d)"
      ],
      "metadata": {
        "colab": {
          "base_uri": "https://localhost:8080/"
        },
        "id": "AG9kEJOxsHFz",
        "outputId": "566ae1f4-5a7e-43a6-ac72-caaca22f5998"
      },
      "execution_count": null,
      "outputs": [
        {
          "output_type": "stream",
          "name": "stdout",
          "text": [
            "{'lays': 30, 'uncle chips': 40, 'bingo': 35, 'max': 25, 'kurkure': 50}\n"
          ]
        }
      ]
    },
    {
      "cell_type": "code",
      "source": [
        "type(d)"
      ],
      "metadata": {
        "colab": {
          "base_uri": "https://localhost:8080/"
        },
        "id": "u2laxwDcscpa",
        "outputId": "4e1b404f-eba7-498e-c366-79a1d7c7a50a"
      },
      "execution_count": null,
      "outputs": [
        {
          "output_type": "execute_result",
          "data": {
            "text/plain": [
              "dict"
            ]
          },
          "metadata": {},
          "execution_count": 9
        }
      ]
    },
    {
      "cell_type": "code",
      "source": [
        "d['twinkle']=60 #add"
      ],
      "metadata": {
        "id": "eh-XBYWesgsL"
      },
      "execution_count": null,
      "outputs": []
    },
    {
      "cell_type": "code",
      "source": [
        "print(d)"
      ],
      "metadata": {
        "colab": {
          "base_uri": "https://localhost:8080/"
        },
        "id": "frRQDc5XsqTo",
        "outputId": "a5e5463b-935d-4363-d6e8-65c95fc8337f"
      },
      "execution_count": null,
      "outputs": [
        {
          "output_type": "stream",
          "name": "stdout",
          "text": [
            "{'lays': 30, 'uncle chips': 40, 'bingo': 35, 'max': 25, 'kurkure': 50, 'twinkle': 60}\n"
          ]
        }
      ]
    },
    {
      "cell_type": "code",
      "source": [
        "d.popitem() # will delete the last item d.clear will clear entire item"
      ],
      "metadata": {
        "colab": {
          "base_uri": "https://localhost:8080/"
        },
        "id": "wpzF_YaDsxI4",
        "outputId": "2a3636fb-c137-4768-b0da-0359ba04d4c7"
      },
      "execution_count": null,
      "outputs": [
        {
          "output_type": "execute_result",
          "data": {
            "text/plain": [
              "('twinkle', 60)"
            ]
          },
          "metadata": {},
          "execution_count": 13
        }
      ]
    },
    {
      "cell_type": "code",
      "source": [
        "print(d)"
      ],
      "metadata": {
        "colab": {
          "base_uri": "https://localhost:8080/"
        },
        "id": "9JhyOx81tMkk",
        "outputId": "a6929810-37e8-43a2-c1d4-8138e97e43fc"
      },
      "execution_count": null,
      "outputs": [
        {
          "output_type": "stream",
          "name": "stdout",
          "text": [
            "{'lays': 30, 'uncle chips': 40, 'bingo': 35, 'max': 25, 'kurkure': 50}\n"
          ]
        }
      ]
    },
    {
      "cell_type": "code",
      "source": [
        "del d['max'] #will delete the selected item"
      ],
      "metadata": {
        "id": "nNAmpoiYtQP9"
      },
      "execution_count": null,
      "outputs": []
    },
    {
      "cell_type": "code",
      "source": [
        "print(d)"
      ],
      "metadata": {
        "colab": {
          "base_uri": "https://localhost:8080/"
        },
        "id": "kAA7u_-ptZom",
        "outputId": "b4315df7-021a-4b03-d8dd-ab5658dfa6aa"
      },
      "execution_count": null,
      "outputs": [
        {
          "output_type": "stream",
          "name": "stdout",
          "text": [
            "{'lays': 30, 'uncle chips': 40, 'bingo': 35, 'kurkure': 50}\n"
          ]
        }
      ]
    },
    {
      "cell_type": "markdown",
      "source": [
        "- Create the dict with the following key value pair\n",
        "- Add new key value pair to your dict called designation and associate with the value Software engineer\n",
        "- Fetch the salary of Bob\n",
        "- Modify the salary 30000 to 35000\n",
        "- Delete the age"
      ],
      "metadata": {
        "id": "RP2r66Gytdqs"
      }
    },
    {
      "cell_type": "code",
      "source": [
        "D={'Name': 'Bob','Age':30,'Salary':30000,'City':'London'}"
      ],
      "metadata": {
        "id": "w1d7YStHuNkj"
      },
      "execution_count": null,
      "outputs": []
    },
    {
      "cell_type": "code",
      "source": [
        "print(D)"
      ],
      "metadata": {
        "colab": {
          "base_uri": "https://localhost:8080/"
        },
        "id": "PcHywU00ui62",
        "outputId": "2f17f586-c6d0-4d91-c83a-b4ce3acf73a5"
      },
      "execution_count": null,
      "outputs": [
        {
          "output_type": "stream",
          "name": "stdout",
          "text": [
            "{'Name': 'Bob', 'Age': 30, 'Salary': 30000, 'City': 'London'}\n"
          ]
        }
      ]
    },
    {
      "cell_type": "code",
      "source": [
        "D['Designation']='Software Engineer'"
      ],
      "metadata": {
        "id": "YxYZ2TWUuoF9"
      },
      "execution_count": null,
      "outputs": []
    },
    {
      "cell_type": "code",
      "source": [
        "print(D)"
      ],
      "metadata": {
        "colab": {
          "base_uri": "https://localhost:8080/"
        },
        "id": "KB7Pyxo3uxAQ",
        "outputId": "31084f4e-85c9-468b-cbf9-7f4a3920edea"
      },
      "execution_count": null,
      "outputs": [
        {
          "output_type": "stream",
          "name": "stdout",
          "text": [
            "{'Name': 'Bob', 'Age': 30, 'Salary': 30000, 'City': 'London', 'Designation': 'Software Engineer'}\n"
          ]
        }
      ]
    },
    {
      "cell_type": "code",
      "source": [
        "D['Salary']"
      ],
      "metadata": {
        "colab": {
          "base_uri": "https://localhost:8080/"
        },
        "id": "xrnn8aGxuzqh",
        "outputId": "b25af8e4-8f62-4131-fbdd-f5e1287d2550"
      },
      "execution_count": null,
      "outputs": [
        {
          "output_type": "execute_result",
          "data": {
            "text/plain": [
              "30000"
            ]
          },
          "metadata": {},
          "execution_count": 22
        }
      ]
    },
    {
      "cell_type": "code",
      "source": [
        "D['Salary']=35000"
      ],
      "metadata": {
        "id": "vBWNsMNWu7sy"
      },
      "execution_count": null,
      "outputs": []
    },
    {
      "cell_type": "markdown",
      "source": [],
      "metadata": {
        "id": "NqvuBP2DAUIm"
      }
    },
    {
      "cell_type": "code",
      "source": [
        "print(D)"
      ],
      "metadata": {
        "colab": {
          "base_uri": "https://localhost:8080/"
        },
        "id": "Og92kdP2vAio",
        "outputId": "157a45a6-e9ef-4adb-c01a-6fd81074b907"
      },
      "execution_count": null,
      "outputs": [
        {
          "output_type": "stream",
          "name": "stdout",
          "text": [
            "{'Name': 'Bob', 'Age': 30, 'Salary': 35000, 'City': 'London', 'Designation': 'Software Engineer'}\n"
          ]
        }
      ]
    },
    {
      "cell_type": "code",
      "source": [
        "del D['Age']"
      ],
      "metadata": {
        "id": "93QiVgLHvDCl"
      },
      "execution_count": null,
      "outputs": []
    },
    {
      "cell_type": "code",
      "source": [
        "print(D)"
      ],
      "metadata": {
        "colab": {
          "base_uri": "https://localhost:8080/"
        },
        "id": "qcPY41aSvI0-",
        "outputId": "5847e1a3-67ea-4de8-e88b-68393c49cac0"
      },
      "execution_count": null,
      "outputs": [
        {
          "output_type": "stream",
          "name": "stdout",
          "text": [
            "{'Name': 'Bob', 'Salary': 35000, 'City': 'London', 'Designation': 'Software Engineer'}\n"
          ]
        }
      ]
    },
    {
      "cell_type": "markdown",
      "source": [
        "SET {}: We use cruly bracket but there is no key value pair. We don't use much of set because they are unordered in nature.\n",
        "- Set are not allow duplicate elements\n",
        "- Indexing and Slicing is not supported (unordered in nature)\n",
        "- Adding and deleting the elements is possible"
      ],
      "metadata": {
        "id": "7ulcMi7CvOAK"
      }
    },
    {
      "cell_type": "code",
      "source": [
        "S={'India','Europe','Isreal','China','Punjab',3,0.9,-5}"
      ],
      "metadata": {
        "id": "qekU6cQtv3kF"
      },
      "execution_count": null,
      "outputs": []
    },
    {
      "cell_type": "code",
      "source": [
        "print(S)"
      ],
      "metadata": {
        "colab": {
          "base_uri": "https://localhost:8080/"
        },
        "id": "D1iS_wJwwFF8",
        "outputId": "fbb1a62a-6425-4b41-f669-7e64f33ce58c"
      },
      "execution_count": null,
      "outputs": [
        {
          "output_type": "stream",
          "name": "stdout",
          "text": [
            "{0.9, 3, 'Isreal', 'India', 'Europe', 'Punjab', 'China', -5}\n"
          ]
        }
      ]
    },
    {
      "cell_type": "code",
      "source": [
        "type(S)"
      ],
      "metadata": {
        "colab": {
          "base_uri": "https://localhost:8080/"
        },
        "id": "zGG1TZdpwHpK",
        "outputId": "05b33260-7be5-4098-de77-2871b90977da"
      },
      "execution_count": null,
      "outputs": [
        {
          "output_type": "execute_result",
          "data": {
            "text/plain": [
              "set"
            ]
          },
          "metadata": {},
          "execution_count": 30
        }
      ]
    },
    {
      "cell_type": "code",
      "source": [
        "S.add(35)"
      ],
      "metadata": {
        "id": "vpTBdIcBwOqC"
      },
      "execution_count": null,
      "outputs": []
    },
    {
      "cell_type": "code",
      "source": [
        "print(S)"
      ],
      "metadata": {
        "colab": {
          "base_uri": "https://localhost:8080/"
        },
        "id": "Zsz2w-1EwSg1",
        "outputId": "79c7a9e3-6aa7-4907-bd56-dfdf71f51ee4"
      },
      "execution_count": null,
      "outputs": [
        {
          "output_type": "stream",
          "name": "stdout",
          "text": [
            "{0.9, 3, 35, 'Isreal', 'India', 'Europe', 'Punjab', 'China', -5}\n"
          ]
        }
      ]
    },
    {
      "cell_type": "code",
      "source": [
        "S.discard('Isreal')# delete the content variable"
      ],
      "metadata": {
        "id": "gNeyIbl1wcu4"
      },
      "execution_count": null,
      "outputs": []
    },
    {
      "cell_type": "code",
      "source": [
        "print(S)"
      ],
      "metadata": {
        "colab": {
          "base_uri": "https://localhost:8080/"
        },
        "id": "v3LWgq0Zwgl8",
        "outputId": "28fa7833-2791-4177-cdda-4c1e9a080f39"
      },
      "execution_count": null,
      "outputs": [
        {
          "output_type": "stream",
          "name": "stdout",
          "text": [
            "{0.9, 3, 35, 'India', 'Europe', 'Punjab', 'China', -5}\n"
          ]
        }
      ]
    },
    {
      "cell_type": "markdown",
      "source": [
        "BOOLEAN: True/ False value (conditional segment)/// Whole numbers either the +ve or -ve are TRUE(4,5,5.6,-0.3,-5) except 0 is false(0)"
      ],
      "metadata": {
        "id": "NpQG5lJHwyi4"
      }
    },
    {
      "cell_type": "code",
      "source": [
        "a=10"
      ],
      "metadata": {
        "id": "G682Sj_Dw6cL"
      },
      "execution_count": null,
      "outputs": []
    },
    {
      "cell_type": "code",
      "source": [
        "b=20"
      ],
      "metadata": {
        "id": "f_cfNd_7w8Te"
      },
      "execution_count": null,
      "outputs": []
    },
    {
      "cell_type": "code",
      "source": [
        "print(a<b)"
      ],
      "metadata": {
        "colab": {
          "base_uri": "https://localhost:8080/"
        },
        "id": "BQnIkE7-w9nH",
        "outputId": "381f2b7b-906b-445c-fa3e-ce370fbdeecf"
      },
      "execution_count": null,
      "outputs": [
        {
          "output_type": "stream",
          "name": "stdout",
          "text": [
            "True\n"
          ]
        }
      ]
    },
    {
      "cell_type": "code",
      "source": [
        "type(a<b)"
      ],
      "metadata": {
        "colab": {
          "base_uri": "https://localhost:8080/"
        },
        "id": "G3rLv-1TxEi8",
        "outputId": "bea6f5d1-1b51-4291-f167-06758bb81d98"
      },
      "execution_count": null,
      "outputs": [
        {
          "output_type": "execute_result",
          "data": {
            "text/plain": [
              "bool"
            ]
          },
          "metadata": {},
          "execution_count": 42
        }
      ]
    },
    {
      "cell_type": "markdown",
      "source": [
        "A sort of practice"
      ],
      "metadata": {
        "id": "FQHqHr6xG8NQ"
      }
    },
    {
      "cell_type": "code",
      "source": [
        "a=('China','India')"
      ],
      "metadata": {
        "id": "95Sb3VcGHEJ9"
      },
      "execution_count": 1,
      "outputs": []
    },
    {
      "cell_type": "code",
      "source": [
        "b=('UK','America')"
      ],
      "metadata": {
        "id": "rjPf_xAWHPYQ"
      },
      "execution_count": 9,
      "outputs": []
    },
    {
      "cell_type": "code",
      "source": [
        "print(a+b)"
      ],
      "metadata": {
        "colab": {
          "base_uri": "https://localhost:8080/"
        },
        "id": "_joGcxmfHj4K",
        "outputId": "9596b3db-8045-4722-c406-694b3f12e797"
      },
      "execution_count": 10,
      "outputs": [
        {
          "output_type": "stream",
          "name": "stdout",
          "text": [
            "('China', 'India', 'UK', 'America')\n"
          ]
        }
      ]
    },
    {
      "cell_type": "markdown",
      "source": [],
      "metadata": {
        "id": "-tXD4pOa5obr"
      }
    }
  ]
}